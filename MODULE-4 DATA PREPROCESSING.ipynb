{
 "cells": [
  {
   "cell_type": "code",
   "execution_count": 1,
   "metadata": {},
   "outputs": [],
   "source": [
    "import pandas as pd\n",
    "import numpy as np\n",
    "import matplotlib.pyplot as plt\n",
    "%matplotlib inline\n",
    "import cv2 as cv\n",
    "from PIL import Image\n",
    "import pickle"
   ]
  },
  {
   "cell_type": "code",
   "execution_count": 2,
   "metadata": {},
   "outputs": [],
   "source": [
    "df=pickle.load(open('./DATA/dataframe_images_100_100.pickle','rb'))"
   ]
  },
  {
   "cell_type": "code",
   "execution_count": 3,
   "metadata": {},
   "outputs": [
    {
     "data": {
      "text/html": [
       "<div>\n",
       "<style scoped>\n",
       "    .dataframe tbody tr th:only-of-type {\n",
       "        vertical-align: middle;\n",
       "    }\n",
       "\n",
       "    .dataframe tbody tr th {\n",
       "        vertical-align: top;\n",
       "    }\n",
       "\n",
       "    .dataframe thead th {\n",
       "        text-align: right;\n",
       "    }\n",
       "</style>\n",
       "<table border=\"1\" class=\"dataframe\">\n",
       "  <thead>\n",
       "    <tr style=\"text-align: right;\">\n",
       "      <th></th>\n",
       "      <th>gender</th>\n",
       "      <th>0</th>\n",
       "      <th>1</th>\n",
       "      <th>2</th>\n",
       "      <th>3</th>\n",
       "      <th>4</th>\n",
       "      <th>5</th>\n",
       "      <th>6</th>\n",
       "      <th>7</th>\n",
       "      <th>8</th>\n",
       "      <th>...</th>\n",
       "      <th>9990</th>\n",
       "      <th>9991</th>\n",
       "      <th>9992</th>\n",
       "      <th>9993</th>\n",
       "      <th>9994</th>\n",
       "      <th>9995</th>\n",
       "      <th>9996</th>\n",
       "      <th>9997</th>\n",
       "      <th>9998</th>\n",
       "      <th>9999</th>\n",
       "    </tr>\n",
       "  </thead>\n",
       "  <tbody>\n",
       "    <tr>\n",
       "      <th>0</th>\n",
       "      <td>male</td>\n",
       "      <td>68</td>\n",
       "      <td>69</td>\n",
       "      <td>66</td>\n",
       "      <td>66</td>\n",
       "      <td>69</td>\n",
       "      <td>69</td>\n",
       "      <td>67</td>\n",
       "      <td>68</td>\n",
       "      <td>66</td>\n",
       "      <td>...</td>\n",
       "      <td>33</td>\n",
       "      <td>30</td>\n",
       "      <td>40</td>\n",
       "      <td>29</td>\n",
       "      <td>32</td>\n",
       "      <td>34</td>\n",
       "      <td>48</td>\n",
       "      <td>41</td>\n",
       "      <td>38</td>\n",
       "      <td>34</td>\n",
       "    </tr>\n",
       "    <tr>\n",
       "      <th>1</th>\n",
       "      <td>male</td>\n",
       "      <td>10</td>\n",
       "      <td>10</td>\n",
       "      <td>7</td>\n",
       "      <td>10</td>\n",
       "      <td>18</td>\n",
       "      <td>2</td>\n",
       "      <td>1</td>\n",
       "      <td>6</td>\n",
       "      <td>8</td>\n",
       "      <td>...</td>\n",
       "      <td>80</td>\n",
       "      <td>105</td>\n",
       "      <td>117</td>\n",
       "      <td>106</td>\n",
       "      <td>82</td>\n",
       "      <td>59</td>\n",
       "      <td>46</td>\n",
       "      <td>33</td>\n",
       "      <td>19</td>\n",
       "      <td>5</td>\n",
       "    </tr>\n",
       "    <tr>\n",
       "      <th>2</th>\n",
       "      <td>male</td>\n",
       "      <td>129</td>\n",
       "      <td>127</td>\n",
       "      <td>125</td>\n",
       "      <td>123</td>\n",
       "      <td>117</td>\n",
       "      <td>107</td>\n",
       "      <td>95</td>\n",
       "      <td>91</td>\n",
       "      <td>95</td>\n",
       "      <td>...</td>\n",
       "      <td>60</td>\n",
       "      <td>69</td>\n",
       "      <td>69</td>\n",
       "      <td>58</td>\n",
       "      <td>60</td>\n",
       "      <td>80</td>\n",
       "      <td>76</td>\n",
       "      <td>89</td>\n",
       "      <td>123</td>\n",
       "      <td>139</td>\n",
       "    </tr>\n",
       "    <tr>\n",
       "      <th>4</th>\n",
       "      <td>male</td>\n",
       "      <td>51</td>\n",
       "      <td>55</td>\n",
       "      <td>62</td>\n",
       "      <td>57</td>\n",
       "      <td>53</td>\n",
       "      <td>62</td>\n",
       "      <td>85</td>\n",
       "      <td>108</td>\n",
       "      <td>124</td>\n",
       "      <td>...</td>\n",
       "      <td>164</td>\n",
       "      <td>163</td>\n",
       "      <td>158</td>\n",
       "      <td>163</td>\n",
       "      <td>168</td>\n",
       "      <td>171</td>\n",
       "      <td>173</td>\n",
       "      <td>176</td>\n",
       "      <td>181</td>\n",
       "      <td>187</td>\n",
       "    </tr>\n",
       "    <tr>\n",
       "      <th>5</th>\n",
       "      <td>male</td>\n",
       "      <td>0</td>\n",
       "      <td>8</td>\n",
       "      <td>1</td>\n",
       "      <td>26</td>\n",
       "      <td>65</td>\n",
       "      <td>50</td>\n",
       "      <td>50</td>\n",
       "      <td>45</td>\n",
       "      <td>82</td>\n",
       "      <td>...</td>\n",
       "      <td>192</td>\n",
       "      <td>191</td>\n",
       "      <td>191</td>\n",
       "      <td>192</td>\n",
       "      <td>193</td>\n",
       "      <td>191</td>\n",
       "      <td>189</td>\n",
       "      <td>190</td>\n",
       "      <td>191</td>\n",
       "      <td>192</td>\n",
       "    </tr>\n",
       "  </tbody>\n",
       "</table>\n",
       "<p>5 rows × 10001 columns</p>\n",
       "</div>"
      ],
      "text/plain": [
       "  gender    0    1    2    3    4    5   6    7    8  ...  9990  9991  9992  \\\n",
       "0   male   68   69   66   66   69   69  67   68   66  ...    33    30    40   \n",
       "1   male   10   10    7   10   18    2   1    6    8  ...    80   105   117   \n",
       "2   male  129  127  125  123  117  107  95   91   95  ...    60    69    69   \n",
       "4   male   51   55   62   57   53   62  85  108  124  ...   164   163   158   \n",
       "5   male    0    8    1   26   65   50  50   45   82  ...   192   191   191   \n",
       "\n",
       "   9993  9994  9995  9996  9997  9998  9999  \n",
       "0    29    32    34    48    41    38    34  \n",
       "1   106    82    59    46    33    19     5  \n",
       "2    58    60    80    76    89   123   139  \n",
       "4   163   168   171   173   176   181   187  \n",
       "5   192   193   191   189   190   191   192  \n",
       "\n",
       "[5 rows x 10001 columns]"
      ]
     },
     "execution_count": 3,
     "metadata": {},
     "output_type": "execute_result"
    }
   ],
   "source": [
    "df.head()"
   ]
  },
  {
   "cell_type": "code",
   "execution_count": 4,
   "metadata": {},
   "outputs": [
    {
     "name": "stdout",
     "output_type": "stream",
     "text": [
      "<class 'pandas.core.frame.DataFrame'>\n",
      "Int64Index: 438 entries, 0 to 476\n",
      "Columns: 10001 entries, gender to 9999\n",
      "dtypes: object(1), uint8(10000)\n",
      "memory usage: 4.2+ MB\n"
     ]
    }
   ],
   "source": [
    "df.info()"
   ]
  },
  {
   "cell_type": "code",
   "execution_count": 5,
   "metadata": {},
   "outputs": [
    {
     "data": {
      "text/plain": [
       "gender    0\n",
       "0         0\n",
       "1         0\n",
       "2         0\n",
       "3         0\n",
       "         ..\n",
       "9995      0\n",
       "9996      0\n",
       "9997      0\n",
       "9998      0\n",
       "9999      0\n",
       "Length: 10001, dtype: int64"
      ]
     },
     "execution_count": 5,
     "metadata": {},
     "output_type": "execute_result"
    }
   ],
   "source": [
    "df.isnull().sum()"
   ]
  },
  {
   "cell_type": "markdown",
   "metadata": {},
   "source": [
    "# Data Preprocessing\n",
    "- Removing Missing Value\n",
    "- Data Normalizing (min max scaling)"
   ]
  },
  {
   "cell_type": "code",
   "execution_count": 6,
   "metadata": {},
   "outputs": [],
   "source": [
    "df.dropna(axis=0,inplace=True)"
   ]
  },
  {
   "cell_type": "code",
   "execution_count": 7,
   "metadata": {},
   "outputs": [
    {
     "data": {
      "text/plain": [
       "gender    0\n",
       "0         0\n",
       "1         0\n",
       "2         0\n",
       "3         0\n",
       "         ..\n",
       "9995      0\n",
       "9996      0\n",
       "9997      0\n",
       "9998      0\n",
       "9999      0\n",
       "Length: 10001, dtype: int64"
      ]
     },
     "execution_count": 7,
     "metadata": {},
     "output_type": "execute_result"
    }
   ],
   "source": [
    "df.isnull().sum()"
   ]
  },
  {
   "cell_type": "code",
   "execution_count": 9,
   "metadata": {},
   "outputs": [],
   "source": [
    "#Split the df into two parts\n",
    "X=df.iloc[:,1:].values #independent value\n",
    "Y=df.iloc[:,0].values # dependent"
   ]
  },
  {
   "cell_type": "code",
   "execution_count": 10,
   "metadata": {},
   "outputs": [
    {
     "data": {
      "text/plain": [
       "(438, 10000)"
      ]
     },
     "execution_count": 10,
     "metadata": {},
     "output_type": "execute_result"
    }
   ],
   "source": [
    "X.shape"
   ]
  },
  {
   "cell_type": "markdown",
   "metadata": {},
   "source": [
    "# MIN MAX SCALING\n",
    "## Xnorm = $\\frac {x - minValue} {maxValue-minValue}$"
   ]
  },
  {
   "cell_type": "code",
   "execution_count": 14,
   "metadata": {},
   "outputs": [
    {
     "data": {
      "text/plain": [
       "(0, 255)"
      ]
     },
     "execution_count": 14,
     "metadata": {},
     "output_type": "execute_result"
    }
   ],
   "source": [
    "X.min(),X.max()"
   ]
  },
  {
   "cell_type": "code",
   "execution_count": 15,
   "metadata": {},
   "outputs": [],
   "source": [
    "Xnorm=X/X.max()"
   ]
  },
  {
   "cell_type": "code",
   "execution_count": 16,
   "metadata": {},
   "outputs": [
    {
     "data": {
      "text/plain": [
       "array([[0.26666667, 0.27058824, 0.25882353, ..., 0.16078431, 0.14901961,\n",
       "        0.13333333],\n",
       "       [0.03921569, 0.03921569, 0.02745098, ..., 0.12941176, 0.0745098 ,\n",
       "        0.01960784],\n",
       "       [0.50588235, 0.49803922, 0.49019608, ..., 0.34901961, 0.48235294,\n",
       "        0.54509804],\n",
       "       ...,\n",
       "       [0.00392157, 0.00392157, 0.00392157, ..., 0.51764706, 0.36470588,\n",
       "        0.40784314],\n",
       "       [0.7254902 , 0.72156863, 0.72156863, ..., 0.02352941, 0.03529412,\n",
       "        0.02745098],\n",
       "       [0.25882353, 0.27843137, 0.28235294, ..., 0.47058824, 0.42352941,\n",
       "        0.37647059]])"
      ]
     },
     "execution_count": 16,
     "metadata": {},
     "output_type": "execute_result"
    }
   ],
   "source": [
    "Xnorm"
   ]
  },
  {
   "cell_type": "code",
   "execution_count": 17,
   "metadata": {},
   "outputs": [
    {
     "data": {
      "text/plain": [
       "(438, 10000)"
      ]
     },
     "execution_count": 17,
     "metadata": {},
     "output_type": "execute_result"
    }
   ],
   "source": [
    "Xnorm.shape"
   ]
  },
  {
   "cell_type": "code",
   "execution_count": 19,
   "metadata": {},
   "outputs": [],
   "source": [
    "#female = 1 and male =0\n",
    "y_norm=np.where(Y=='female',1,0)"
   ]
  },
  {
   "cell_type": "code",
   "execution_count": 20,
   "metadata": {},
   "outputs": [],
   "source": [
    "#saving x and y\n",
    "np.savez('./DATA/data_100_100_norm.npz',Xnorm,y_norm)"
   ]
  },
  {
   "cell_type": "code",
   "execution_count": null,
   "metadata": {},
   "outputs": [],
   "source": []
  }
 ],
 "metadata": {
  "kernelspec": {
   "display_name": "Python 3",
   "language": "python",
   "name": "python3"
  },
  "language_info": {
   "codemirror_mode": {
    "name": "ipython",
    "version": 3
   },
   "file_extension": ".py",
   "mimetype": "text/x-python",
   "name": "python",
   "nbconvert_exporter": "python",
   "pygments_lexer": "ipython3",
   "version": "3.7.0"
  }
 },
 "nbformat": 4,
 "nbformat_minor": 4
}
